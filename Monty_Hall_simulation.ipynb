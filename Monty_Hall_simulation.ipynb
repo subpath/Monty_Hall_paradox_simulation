{
 "cells": [
  {
   "cell_type": "markdown",
   "metadata": {},
   "source": [
    "# Monty Hall simulation"
   ]
  },
  {
   "cell_type": "code",
   "execution_count": 1,
   "metadata": {},
   "outputs": [
    {
     "name": "stdout",
     "output_type": "stream",
     "text": [
      "Populating the interactive namespace from numpy and matplotlib\n"
     ]
    }
   ],
   "source": [
    "%pylab inline\n",
    "import numpy as np"
   ]
  },
  {
   "cell_type": "markdown",
   "metadata": {},
   "source": [
    "### Some preparations first"
   ]
  },
  {
   "cell_type": "code",
   "execution_count": 3,
   "metadata": {},
   "outputs": [],
   "source": [
    "# theree doors, price is behind third door\n",
    "doors = [0,0,1]\n",
    "        \n",
    "def arrange_price(doors: list) -> np.array:\n",
    "    \"\"\"\n",
    "    Make random shuffle of the doors\n",
    "    \"\"\"\n",
    "    return np.random.permutation(doors)\n",
    "\n",
    "def initial_choice() -> int:\n",
    "    \"\"\"\n",
    "    Make our first guess, at this point, your chances are even,\n",
    "    so let's just choose randomly\n",
    "    \"\"\"\n",
    "    return numpy.random.randint(3)\n",
    "\n",
    "def monty_hall_choice(doors: list, initial_choice: int) -> int:\n",
    "    \"\"\"\n",
    "    Host opens one of the remain doors, \n",
    "    he knows that there is no price behind it\n",
    "    \"\"\"\n",
    "    for number, door in enumerate(doors):\n",
    "        if door != 1 and number != initial_choice:\n",
    "            return number\n",
    "\n",
    "def make_final_choice(initial_choice: int,\n",
    "                      monty_choice: int,\n",
    "                      keep_answer: bool = True) -> int:\n",
    "    \"\"\"\n",
    "    Depending on a bool parameter keep_answer you can change your choice\n",
    "    or keep it same as initial\n",
    "    \"\"\"\n",
    "    if keep_answer:\n",
    "        return initial_choice\n",
    "    else:\n",
    "        for i in range(3):\n",
    "            if i!= initial_choice and i!= monty_choice:\n",
    "                return i\n",
    "            \n",
    "def check_price(final_choice: int, doors: list) -> bool:\n",
    "    \"\"\"\n",
    "    Check if you win or not\n",
    "    \"\"\"\n",
    "    if doors[final_choice] == 1:\n",
    "        return 1,0\n",
    "    else:\n",
    "        return 0,1\n",
    "    \n",
    "def experiment(number_of_experimens: int, keep_initial_answer:bool = False) -> Tuple[int, int]:\n",
    "    #initiate countes\n",
    "    wins , losses = 0, 0\n",
    "    # run experiments\n",
    "    for experiment in range(number_of_experimens):\n",
    "        doors = arrange_price(doors)\n",
    "        choice_1 = initial_choice()\n",
    "        choice_mh = monty_hall_choice(doors, choice_1)\n",
    "        choice_final = make_final_choice(choice_1, choice_mh, keep_answer=keep_initial_answer)\n",
    "        win, lose = check_price(choice_final, doors)\n",
    "        wins+= win\n",
    "        losses += lose\n",
    "    return wins, losses\n",
    "    "
   ]
  },
  {
   "cell_type": "markdown",
   "metadata": {},
   "source": [
    "# Let's run our simulation!"
   ]
  },
  {
   "cell_type": "code",
   "execution_count": 8,
   "metadata": {},
   "outputs": [
    {
     "data": {
      "text/plain": [
       "(array([0., 1., 2., 3., 4., 5., 6., 7., 8.]),\n",
       " <a list of 9 Text yticklabel objects>)"
      ]
     },
     "execution_count": 8,
     "metadata": {},
     "output_type": "execute_result"
    },
    {
     "data": {
      "image/png": "[encoded data removed]",
      "text/plain": [
       "<Figure size 1440x576 with 1 Axes>"
      ]
     },
     "metadata": {},
     "output_type": "display_data"
    }
   ],
   "source": [
    "\n",
    "\n",
    "keep_initial_answer = False\n",
    "\n",
    "number_of_experimens = 10\n",
    "\n",
    "    \n",
    "pylab.figure(figsize = (20,8))\n",
    "pylab.bar(['win', 'lose'], [wins, losses])\n",
    "pylab.title(f'N iterations {number_of_experimens} - Always change initial choice', size = 22)\n",
    "pylab.xticks(['win', 'lose'], size = 18)\n",
    "pylab.yticks(size = 18)"
   ]
  },
  {
   "cell_type": "markdown",
   "metadata": {},
   "source": [
    "# Check your results"
   ]
  },
  {
   "cell_type": "code",
   "execution_count": 9,
   "metadata": {},
   "outputs": [
    {
     "name": "stdout",
     "output_type": "stream",
     "text": [
      "Win - Lose ratio 0.3\n"
     ]
    }
   ],
   "source": [
    "print(f'Win - Lose ratio {wins/(wins+losses)}')"
   ]
  }
 ],
 "metadata": {
  "kernelspec": {
   "display_name": "Python 3",
   "language": "python",
   "name": "python3"
  },
  "language_info": {
   "codemirror_mode": {
    "name": "ipython",
    "version": 3
   },
   "file_extension": ".py",
   "mimetype": "text/x-python",
   "name": "python",
   "nbconvert_exporter": "python",
   "pygments_lexer": "ipython3",
   "version": "3.6.6"
  }
 },
 "nbformat": 4,
 "nbformat_minor": 2
}
